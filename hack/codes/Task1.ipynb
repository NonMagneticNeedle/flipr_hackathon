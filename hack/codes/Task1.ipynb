{
  "nbformat": 4,
  "nbformat_minor": 0,
  "metadata": {
    "colab": {
      "name": "Task1.ipynb",
      "provenance": [],
      "collapsed_sections": []
    },
    "kernelspec": {
      "name": "python3",
      "display_name": "Python 3"
    }
  },
  "cells": [
    {
      "cell_type": "markdown",
      "metadata": {
        "id": "cMmlyYqBQj5d",
        "colab_type": "text"
      },
      "source": [
        "Here we ensemble the outputs of our tabnet and catboost results "
      ]
    },
    {
      "cell_type": "code",
      "metadata": {
        "id": "181Y1XNfPo6g",
        "colab_type": "code",
        "colab": {}
      },
      "source": [
        ""
      ],
      "execution_count": null,
      "outputs": []
    },
    {
      "cell_type": "code",
      "metadata": {
        "id": "q_L5NldN2ouR",
        "colab_type": "code",
        "colab": {
          "base_uri": "https://localhost:8080/",
          "height": 122
        },
        "outputId": "e174646b-aa7e-45d7-9ac4-312131079f12"
      },
      "source": [
        "from google.colab import drive\n",
        "\n",
        "# This will prompt for authorization.\n",
        "drive.mount('/content/drive/')\n",
        "!cd \"/content/drive/My Drive/hack/\"\n"
      ],
      "execution_count": 2,
      "outputs": [
        {
          "output_type": "stream",
          "text": [
            "Go to this URL in a browser: https://accounts.google.com/o/oauth2/auth?client_id=947318989803-6bn6qk8qdgf4n4g3pfee6491hc0brc4i.apps.googleusercontent.com&redirect_uri=urn%3aietf%3awg%3aoauth%3a2.0%3aoob&scope=email%20https%3a%2f%2fwww.googleapis.com%2fauth%2fdocs.test%20https%3a%2f%2fwww.googleapis.com%2fauth%2fdrive%20https%3a%2f%2fwww.googleapis.com%2fauth%2fdrive.photos.readonly%20https%3a%2f%2fwww.googleapis.com%2fauth%2fpeopleapi.readonly&response_type=code\n",
            "\n",
            "Enter your authorization code:\n",
            "··········\n",
            "Mounted at /content/drive/\n"
          ],
          "name": "stdout"
        }
      ]
    },
    {
      "cell_type": "code",
      "metadata": {
        "id": "f_f4iB1PQ-o7",
        "colab_type": "code",
        "colab": {
          "base_uri": "https://localhost:8080/",
          "height": 323
        },
        "outputId": "445ab271-f67f-4c32-d773-3df9a774fd0d"
      },
      "source": [
        "import pandas as pd \n",
        "import numpy as np\n",
        "import matplotlib.pyplot as plt\n",
        "\n",
        "data1 = pd.read_csv('/content/drive/My Drive/hack/task1_outputs/catboost.csv')\n",
        "\n",
        "data2 = pd.read_csv('/content/drive/My Drive/hack/task1_outputs/tabnet.csv')\n",
        "print(data1.head())\n",
        "print(data2.head())\n",
        "test_indx = data1['Stock Index']\n",
        "print(test_indx.head())"
      ],
      "execution_count": 3,
      "outputs": [
        {
          "output_type": "stream",
          "text": [
            "  Stock Index  Stock Price\n",
            "0      AC3235   787.132432\n",
            "1      AC3236   238.308238\n",
            "2      AC3237  1502.268566\n",
            "3      AC3238   812.243537\n",
            "4      AC3239   282.508535\n",
            "  Stock Index  Stock Price\n",
            "0      AC3235    778.20310\n",
            "1      AC3236    252.18552\n",
            "2      AC3237   1536.02550\n",
            "3      AC3238    820.13710\n",
            "4      AC3239    263.06800\n",
            "0    AC3235\n",
            "1    AC3236\n",
            "2    AC3237\n",
            "3    AC3238\n",
            "4    AC3239\n",
            "Name: Stock Index, dtype: object\n"
          ],
          "name": "stdout"
        }
      ]
    },
    {
      "cell_type": "code",
      "metadata": {
        "id": "M1lNHkM2SVO7",
        "colab_type": "code",
        "colab": {}
      },
      "source": [
        "#since models are very similar i will just do a average\n"
      ],
      "execution_count": null,
      "outputs": []
    },
    {
      "cell_type": "code",
      "metadata": {
        "id": "R_ABdGU5UqV4",
        "colab_type": "code",
        "colab": {}
      },
      "source": [
        "\n",
        "y_scores = 0.5*(data1['Stock Price'].values + data2['Stock Price'].values)"
      ],
      "execution_count": 4,
      "outputs": []
    },
    {
      "cell_type": "code",
      "metadata": {
        "id": "AIDqzJ_0YXEV",
        "colab_type": "code",
        "colab": {}
      },
      "source": [
        "sub = pd.DataFrame()\n",
        "sub['Stock Index']=test_indx\n",
        "sub['Stock Price'] = y_scores"
      ],
      "execution_count": 5,
      "outputs": []
    },
    {
      "cell_type": "code",
      "metadata": {
        "id": "vc4LgL3fZFwE",
        "colab_type": "code",
        "colab": {
          "base_uri": "https://localhost:8080/",
          "height": 119
        },
        "outputId": "ef27e275-29b8-4bc6-e51b-9098e905d754"
      },
      "source": [
        "print(sub.head())\n",
        "sub.to_csv('/content/drive/My Drive/hack/task1.csv',index=False)"
      ],
      "execution_count": 6,
      "outputs": [
        {
          "output_type": "stream",
          "text": [
            "  Stock Index  Stock Price\n",
            "0      AC3235   782.667766\n",
            "1      AC3236   245.246879\n",
            "2      AC3237  1519.147033\n",
            "3      AC3238   816.190319\n",
            "4      AC3239   272.788268\n"
          ],
          "name": "stdout"
        }
      ]
    },
    {
      "cell_type": "code",
      "metadata": {
        "id": "gghmwPgCS1lZ",
        "colab_type": "code",
        "colab": {}
      },
      "source": [
        ""
      ],
      "execution_count": null,
      "outputs": []
    }
  ]
}