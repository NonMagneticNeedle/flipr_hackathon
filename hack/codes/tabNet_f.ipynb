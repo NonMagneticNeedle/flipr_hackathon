{
  "nbformat": 4,
  "nbformat_minor": 0,
  "metadata": {
    "colab": {
      "name": "tabNet_f.ipynb",
      "provenance": [],
      "collapsed_sections": []
    },
    "kernelspec": {
      "name": "python3",
      "display_name": "Python 3"
    }
  },
  "cells": [
    {
      "cell_type": "code",
      "metadata": {
        "id": "B5CxeGjJjh3c",
        "colab_type": "code",
        "colab": {}
      },
      "source": [
        ""
      ],
      "execution_count": null,
      "outputs": []
    },
    {
      "cell_type": "code",
      "metadata": {
        "id": "q_L5NldN2ouR",
        "colab_type": "code",
        "colab": {
          "base_uri": "https://localhost:8080/",
          "height": 122
        },
        "outputId": "5bc1713e-e653-4bed-8efb-0d250533a0d3"
      },
      "source": [
        "from google.colab import drive\n",
        "\n",
        "# This will prompt for authorization.\n",
        "drive.mount('/content/drive/')\n",
        "!cd \"/content/drive/My Drive/hack/\"\n"
      ],
      "execution_count": 1,
      "outputs": [
        {
          "output_type": "stream",
          "text": [
            "Go to this URL in a browser: https://accounts.google.com/o/oauth2/auth?client_id=947318989803-6bn6qk8qdgf4n4g3pfee6491hc0brc4i.apps.googleusercontent.com&redirect_uri=urn%3aietf%3awg%3aoauth%3a2.0%3aoob&scope=email%20https%3a%2f%2fwww.googleapis.com%2fauth%2fdocs.test%20https%3a%2f%2fwww.googleapis.com%2fauth%2fdrive%20https%3a%2f%2fwww.googleapis.com%2fauth%2fdrive.photos.readonly%20https%3a%2f%2fwww.googleapis.com%2fauth%2fpeopleapi.readonly&response_type=code\n",
            "\n",
            "Enter your authorization code:\n",
            "··········\n",
            "Mounted at /content/drive/\n"
          ],
          "name": "stdout"
        }
      ]
    },
    {
      "cell_type": "code",
      "metadata": {
        "id": "tIFsf1S34iAE",
        "colab_type": "code",
        "colab": {
          "base_uri": "https://localhost:8080/",
          "height": 476
        },
        "outputId": "0dcfffca-e42a-4a19-b81f-5029908011a7"
      },
      "source": [
        "import pandas as pd \n",
        "import numpy as np\n",
        "import matplotlib.pyplot as plt\n",
        "\n",
        "test_data =pd.read_excel('/content/drive/My Drive/hack/Test_dataset.xlsx','Test_Aug10')\n",
        "train_data = pd.read_excel('/content/drive/My Drive/hack/Train_dataset.xlsx')\n",
        "#Stock Index\tIndex\tIndustry\tVWAP\tGeneral Index\tNAV\tP/E Ratio\tVolumes Traded\tInventory Turnover\tCovid Impact (Beta)\tTracking Error\tDollar Exchange Rate\tPut-Call Ratio\tP/B Ratio\tStock Price\n",
        "traget = 'Stock Price'\n",
        "colm =['Index', 'Industry', 'VWAP', 'General Index', 'NAV',\n",
        "       'P/E Ratio', 'Volumes Traded', 'Inventory Turnover',\n",
        "       'Covid Impact (Beta)', 'Tracking Error', 'Dollar Exchange Rate',\n",
        "       'Put-Call Ratio', 'P/B Ratio']\n",
        "y=train_data['Stock Price']\n",
        "train = train_data[colm]\n",
        "test = test_data[colm]\n",
        "test_indx = test_data['Stock Index']\n",
        "#train = train.drop(train.columns[0],axis=1)\n",
        "#test_data = test_data.drop(test_data.columns[0],axis=1)\n",
        "\n",
        "#train.fillna(-999,inplace=True)\n",
        "#test.fillna(-999,inplace=True)\n",
        "print(train_data.columns)\n",
        "print(train.head())\n",
        "print(test.head())\n",
        "print(y.head())\n",
        "\n",
        "# scatter plot of features  vs index /categories(for histograms of categorical data)  \n",
        "# for categorical data \n",
        "cats=['Index', 'Industry']\n",
        "uncats= ['VWAP', 'General Index', 'NAV',\n",
        "       'P/E Ratio', 'Volumes Traded', 'Inventory Turnover',\n",
        "       'Covid Impact (Beta)', 'Tracking Error', 'Dollar Exchange Rate',\n",
        "       'Put-Call Ratio', 'P/B Ratio'] \n",
        "\n",
        "\n",
        "y=y.values\n",
        "\n",
        "\n",
        "\n"
      ],
      "execution_count": 1,
      "outputs": [
        {
          "output_type": "stream",
          "text": [
            "Index(['Stock Index', 'Index', 'Industry', 'VWAP', 'General Index', 'NAV',\n",
            "       'P/E Ratio', 'Volumes Traded', 'Inventory Turnover',\n",
            "       'Covid Impact (Beta)', 'Tracking Error', 'Dollar Exchange Rate',\n",
            "       'Put-Call Ratio', 'P/B Ratio', 'Stock Price'],\n",
            "      dtype='object')\n",
            "     Index          Industry  ...  Put-Call Ratio  P/B Ratio\n",
            "0     NYSE       Real Estate  ...            0.61       9.20\n",
            "1     NYSE  Information Tech  ...             NaN       6.91\n",
            "2     NYSE  Information Tech  ...             NaN       6.09\n",
            "3      BSE         Materials  ...            1.11       5.60\n",
            "4  S&P 500       Real Estate  ...            1.07       9.46\n",
            "\n",
            "[5 rows x 13 columns]\n",
            "     Index          Industry  ...  Put-Call Ratio  P/B Ratio\n",
            "0      NSE         Materials  ...            0.80       4.66\n",
            "1      JSE            Energy  ...            0.86       6.11\n",
            "2  S&P 500  Information Tech  ...            0.93       4.99\n",
            "3      NSE        Healthcare  ...            1.09       1.26\n",
            "4     NYSE         Materials  ...             NaN       6.18\n",
            "\n",
            "[5 rows x 13 columns]\n",
            "0     156.987852\n",
            "1     560.859622\n",
            "2    1279.732874\n",
            "3    1121.787632\n",
            "4     382.962534\n",
            "Name: Stock Price, dtype: float64\n"
          ],
          "name": "stdout"
        }
      ]
    },
    {
      "cell_type": "code",
      "metadata": {
        "id": "D3z-7BqaqCIZ",
        "colab_type": "code",
        "colab": {
          "base_uri": "https://localhost:8080/",
          "height": 153
        },
        "outputId": "2b94a40d-5db3-4cdb-ce05-6616ccf58596"
      },
      "source": [
        "!pip install pytorch-tabnet"
      ],
      "execution_count": 2,
      "outputs": [
        {
          "output_type": "stream",
          "text": [
            "Requirement already satisfied: pytorch-tabnet in /usr/local/lib/python3.6/dist-packages (1.2.0)\n",
            "Requirement already satisfied: scipy>1.4 in /usr/local/lib/python3.6/dist-packages (from pytorch-tabnet) (1.4.1)\n",
            "Requirement already satisfied: tqdm<5.0,>=4.36 in /usr/local/lib/python3.6/dist-packages (from pytorch-tabnet) (4.41.1)\n",
            "Requirement already satisfied: torch<2.0,>=1.2 in /usr/local/lib/python3.6/dist-packages (from pytorch-tabnet) (1.6.0+cu101)\n",
            "Requirement already satisfied: numpy<2.0,>=1.17 in /usr/local/lib/python3.6/dist-packages (from pytorch-tabnet) (1.18.5)\n",
            "Requirement already satisfied: scikit_learn>0.21 in /usr/local/lib/python3.6/dist-packages (from pytorch-tabnet) (0.22.2.post1)\n",
            "Requirement already satisfied: future in /usr/local/lib/python3.6/dist-packages (from torch<2.0,>=1.2->pytorch-tabnet) (0.16.0)\n",
            "Requirement already satisfied: joblib>=0.11 in /usr/local/lib/python3.6/dist-packages (from scikit_learn>0.21->pytorch-tabnet) (0.16.0)\n"
          ],
          "name": "stdout"
        }
      ]
    },
    {
      "cell_type": "code",
      "metadata": {
        "id": "7jepPjamoytL",
        "colab_type": "code",
        "colab": {}
      },
      "source": [
        "\n",
        "from pytorch_tabnet.tab_model import TabNetRegressor\n",
        "\n",
        "import torch\n",
        "from sklearn.preprocessing import LabelEncoder\n",
        "from sklearn.metrics import mean_squared_error\n",
        "\n",
        "import pandas as pd\n",
        "import numpy as np\n",
        "np.random.seed(0)\n"
      ],
      "execution_count": 2,
      "outputs": []
    },
    {
      "cell_type": "code",
      "metadata": {
        "id": "BK8JeQqIo6at",
        "colab_type": "code",
        "colab": {
          "base_uri": "https://localhost:8080/",
          "height": 1000
        },
        "outputId": "da74b838-20ea-4a13-8c45-0df6eb7f903a"
      },
      "source": [
        "\n",
        "categorical_columns = []\n",
        "categorical_dims =  {}\n",
        "for col in cats:\n",
        "    print(col, train[col].nunique())\n",
        "    l_enc = LabelEncoder()#for converting string to int encode\n",
        "    train[col] = train[col].fillna(\"VV_likely\")\n",
        "    test[col] = test[col].fillna(\"VV_likely\")\n",
        "    train[col] = l_enc.fit_transform(train[col].values)\n",
        "    test[col] = l_enc.transform(test[col].values)\n",
        "    categorical_columns.append(col)\n",
        "    categorical_dims[col] = len(l_enc.classes_)# finding max number of label\n",
        "uncat_means={}\n",
        "\n",
        "from sklearn.preprocessing import StandardScaler\n",
        "for col in uncats:\n",
        "    m=train[col].mean()\n",
        "    print(col,m)\n",
        "    uncat_means[col]=m\n",
        "    train[col]=train[col].fillna(m)#, inplace=True)\n",
        "    test[col]=test[col].fillna(m)#, inplace=True)\n",
        "#now std scale\n",
        "sc = StandardScaler()\n",
        "train[uncats] = sc.fit_transform(train[uncats].values)\n",
        "test[uncats]  = sc.transform(test[uncats].values)\n",
        "\n",
        "\n",
        "\n",
        "print(categorical_columns,categorical_dims)\n"
      ],
      "execution_count": 3,
      "outputs": [
        {
          "output_type": "stream",
          "text": [
            "Index 5\n",
            "Industry 5\n",
            "VWAP 486.1881674608576\n",
            "General Index 24218.079195466962\n",
            "NAV 54.74600382409201\n",
            "P/E Ratio 105.54362288431929\n",
            "Volumes Traded 10418269.156851722\n",
            "Inventory Turnover 5.436839919816729\n",
            "Covid Impact (Beta) 0.14065363208220494\n",
            "Tracking Error 0.038496047592997774\n",
            "Dollar Exchange Rate 33.99110320284626\n",
            "Put-Call Ratio 0.9447218416004377\n",
            "P/B Ratio 4.996781734166903\n",
            "['Index', 'Industry'] {'Index': 5, 'Industry': 5}\n"
          ],
          "name": "stdout"
        },
        {
          "output_type": "stream",
          "text": [
            "/usr/local/lib/python3.6/dist-packages/ipykernel_launcher.py:7: SettingWithCopyWarning: \n",
            "A value is trying to be set on a copy of a slice from a DataFrame.\n",
            "Try using .loc[row_indexer,col_indexer] = value instead\n",
            "\n",
            "See the caveats in the documentation: https://pandas.pydata.org/pandas-docs/stable/user_guide/indexing.html#returning-a-view-versus-a-copy\n",
            "  import sys\n",
            "/usr/local/lib/python3.6/dist-packages/ipykernel_launcher.py:8: SettingWithCopyWarning: \n",
            "A value is trying to be set on a copy of a slice from a DataFrame.\n",
            "Try using .loc[row_indexer,col_indexer] = value instead\n",
            "\n",
            "See the caveats in the documentation: https://pandas.pydata.org/pandas-docs/stable/user_guide/indexing.html#returning-a-view-versus-a-copy\n",
            "  \n",
            "/usr/local/lib/python3.6/dist-packages/ipykernel_launcher.py:9: SettingWithCopyWarning: \n",
            "A value is trying to be set on a copy of a slice from a DataFrame.\n",
            "Try using .loc[row_indexer,col_indexer] = value instead\n",
            "\n",
            "See the caveats in the documentation: https://pandas.pydata.org/pandas-docs/stable/user_guide/indexing.html#returning-a-view-versus-a-copy\n",
            "  if __name__ == '__main__':\n",
            "/usr/local/lib/python3.6/dist-packages/ipykernel_launcher.py:10: SettingWithCopyWarning: \n",
            "A value is trying to be set on a copy of a slice from a DataFrame.\n",
            "Try using .loc[row_indexer,col_indexer] = value instead\n",
            "\n",
            "See the caveats in the documentation: https://pandas.pydata.org/pandas-docs/stable/user_guide/indexing.html#returning-a-view-versus-a-copy\n",
            "  # Remove the CWD from sys.path while we load stuff.\n",
            "/usr/local/lib/python3.6/dist-packages/ipykernel_launcher.py:20: SettingWithCopyWarning: \n",
            "A value is trying to be set on a copy of a slice from a DataFrame.\n",
            "Try using .loc[row_indexer,col_indexer] = value instead\n",
            "\n",
            "See the caveats in the documentation: https://pandas.pydata.org/pandas-docs/stable/user_guide/indexing.html#returning-a-view-versus-a-copy\n",
            "/usr/local/lib/python3.6/dist-packages/ipykernel_launcher.py:21: SettingWithCopyWarning: \n",
            "A value is trying to be set on a copy of a slice from a DataFrame.\n",
            "Try using .loc[row_indexer,col_indexer] = value instead\n",
            "\n",
            "See the caveats in the documentation: https://pandas.pydata.org/pandas-docs/stable/user_guide/indexing.html#returning-a-view-versus-a-copy\n",
            "/usr/local/lib/python3.6/dist-packages/ipykernel_launcher.py:24: SettingWithCopyWarning: \n",
            "A value is trying to be set on a copy of a slice from a DataFrame.\n",
            "Try using .loc[row_indexer,col_indexer] = value instead\n",
            "\n",
            "See the caveats in the documentation: https://pandas.pydata.org/pandas-docs/stable/user_guide/indexing.html#returning-a-view-versus-a-copy\n",
            "/usr/local/lib/python3.6/dist-packages/pandas/core/indexing.py:966: SettingWithCopyWarning: \n",
            "A value is trying to be set on a copy of a slice from a DataFrame.\n",
            "Try using .loc[row_indexer,col_indexer] = value instead\n",
            "\n",
            "See the caveats in the documentation: https://pandas.pydata.org/pandas-docs/stable/user_guide/indexing.html#returning-a-view-versus-a-copy\n",
            "  self.obj[item] = s\n",
            "/usr/local/lib/python3.6/dist-packages/ipykernel_launcher.py:25: SettingWithCopyWarning: \n",
            "A value is trying to be set on a copy of a slice from a DataFrame.\n",
            "Try using .loc[row_indexer,col_indexer] = value instead\n",
            "\n",
            "See the caveats in the documentation: https://pandas.pydata.org/pandas-docs/stable/user_guide/indexing.html#returning-a-view-versus-a-copy\n",
            "/usr/local/lib/python3.6/dist-packages/pandas/core/indexing.py:966: SettingWithCopyWarning: \n",
            "A value is trying to be set on a copy of a slice from a DataFrame.\n",
            "Try using .loc[row_indexer,col_indexer] = value instead\n",
            "\n",
            "See the caveats in the documentation: https://pandas.pydata.org/pandas-docs/stable/user_guide/indexing.html#returning-a-view-versus-a-copy\n",
            "  self.obj[item] = s\n"
          ],
          "name": "stderr"
        }
      ]
    },
    {
      "cell_type": "code",
      "metadata": {
        "id": "_fhSXmQUpUn0",
        "colab_type": "code",
        "colab": {
          "base_uri": "https://localhost:8080/",
          "height": 374
        },
        "outputId": "504ea031-8642-47a3-ba6e-b077a5d44616"
      },
      "source": [
        "print(train_data.columns)\n",
        "print(train.head())\n",
        "print(test.head())\n"
      ],
      "execution_count": 4,
      "outputs": [
        {
          "output_type": "stream",
          "text": [
            "Index(['Stock Index', 'Index', 'Industry', 'VWAP', 'General Index', 'NAV',\n",
            "       'P/E Ratio', 'Volumes Traded', 'Inventory Turnover',\n",
            "       'Covid Impact (Beta)', 'Tracking Error', 'Dollar Exchange Rate',\n",
            "       'Put-Call Ratio', 'P/B Ratio', 'Stock Price'],\n",
            "      dtype='object')\n",
            "   Index  Industry  ...  Put-Call Ratio  P/B Ratio\n",
            "0      3         4  ...   -1.660755e+00   1.609129\n",
            "1      3         2  ...   -3.855935e-15   0.732442\n",
            "2      3         2  ...   -3.855935e-15   0.418520\n",
            "3      0         3  ...    8.200436e-01   0.230932\n",
            "4      4         4  ...    6.215797e-01   1.708666\n",
            "\n",
            "[5 rows x 13 columns]\n",
            "   Index  Industry      VWAP  ...  Dollar Exchange Rate  Put-Call Ratio  P/B Ratio\n",
            "0      2         3 -1.559706  ...              1.208301   -7.180514e-01  -0.128931\n",
            "1      1         0  0.948142  ...             -0.481180   -4.203556e-01   0.426176\n",
            "2      4         2  0.293869  ...             -0.974438   -7.304384e-02  -0.002596\n",
            "3      2         1  0.578616  ...              1.208301    7.208117e-01  -1.430562\n",
            "4      3         3 -0.381409  ...             -0.974438   -3.855935e-15   0.452975\n",
            "\n",
            "[5 rows x 13 columns]\n"
          ],
          "name": "stdout"
        }
      ]
    },
    {
      "cell_type": "code",
      "metadata": {
        "id": "8np_VafkChEP",
        "colab_type": "code",
        "colab": {
          "base_uri": "https://localhost:8080/",
          "height": 612
        },
        "outputId": "464a7b75-db4e-40ac-a8cd-26d2b2debe80"
      },
      "source": [
        "features = [ col for col in train.columns] \n",
        "\n",
        "cat_idxs = [ i for i, f in enumerate(features) if f in categorical_columns]\n",
        "\n",
        "cat_dims = [ categorical_dims[f] for i, f in enumerate(features) if f in categorical_columns]\n",
        "\n",
        "# define your embedding sizes : here just a random choice\n",
        "cat_emb_dim = [5,5]\n",
        "print(features)\n",
        "print(cat_idxs)\n",
        "print(cat_dims)\n",
        "print(cat_emb_dim)\n",
        "\n",
        "from sklearn.model_selection import train_test_split\n",
        "X_train, X_validation, y_train, y_validation = train_test_split(train, y, train_size=0.6, random_state=1234)\n",
        "\n",
        "categorical_features_indices = np.where(train.dtypes != np.float)[0]\n",
        "print(categorical_features_indices)\n",
        "\n",
        "\n",
        "print(X_train.head())\n",
        "print(X_validation.head())\n",
        "\n",
        "print(test.head())\n",
        "print(test_indx.head())"
      ],
      "execution_count": 6,
      "outputs": [
        {
          "output_type": "stream",
          "text": [
            "['Index', 'Industry', 'VWAP', 'General Index', 'NAV', 'P/E Ratio', 'Volumes Traded', 'Inventory Turnover', 'Covid Impact (Beta)', 'Tracking Error', 'Dollar Exchange Rate', 'Put-Call Ratio', 'P/B Ratio']\n",
            "[0, 1]\n",
            "[5, 5]\n",
            "[5, 5]\n",
            "[0 1]\n",
            "      Index  Industry  ...  Put-Call Ratio  P/B Ratio\n",
            "4857      2         0  ...       -0.073044  -0.473480\n",
            "4849      2         3  ...        0.770428   0.093112\n",
            "5548      0         2  ...        0.571964   1.241610\n",
            "3347      2         4  ...        0.026188   0.858777\n",
            "4372      4         3  ...        0.026188   1.505764\n",
            "\n",
            "[5 rows x 13 columns]\n",
            "      Index  Industry  ...  Put-Call Ratio  P/B Ratio\n",
            "2783      1         4  ...       -0.718051  -0.530905\n",
            "942       1         3  ...        1.713131   1.050193\n",
            "1325      3         3  ...       -0.817283   0.464460\n",
            "3675      2         2  ...        0.869660   1.609129\n",
            "2938      2         0  ...        0.323884  -0.270579\n",
            "\n",
            "[5 rows x 13 columns]\n",
            "   Index  Industry      VWAP  ...  Dollar Exchange Rate  Put-Call Ratio  P/B Ratio\n",
            "0      2         3 -1.559706  ...              1.208301   -7.180514e-01  -0.128931\n",
            "1      1         0  0.948142  ...             -0.481180   -4.203556e-01   0.426176\n",
            "2      4         2  0.293869  ...             -0.974438   -7.304384e-02  -0.002596\n",
            "3      2         1  0.578616  ...              1.208301    7.208117e-01  -1.430562\n",
            "4      3         3 -0.381409  ...             -0.974438   -3.855935e-15   0.452975\n",
            "\n",
            "[5 rows x 13 columns]\n",
            "0    AC3235\n",
            "1    AC3236\n",
            "2    AC3237\n",
            "3    AC3238\n",
            "4    AC3239\n",
            "Name: Stock Index, dtype: object\n"
          ],
          "name": "stdout"
        }
      ]
    },
    {
      "cell_type": "code",
      "metadata": {
        "id": "4RypAycgGT6L",
        "colab_type": "code",
        "colab": {
          "base_uri": "https://localhost:8080/",
          "height": 1000
        },
        "outputId": "27d1674e-74f7-4435-ceb8-77b318c0e000"
      },
      "source": [
        "clf = TabNetRegressor(cat_dims=cat_dims, cat_emb_dim=cat_emb_dim, cat_idxs=cat_idxs)\n",
        "max_epochs = 1000\n",
        "clf.fit(\n",
        "    X_train=X_train.values, y_train=y_train.reshape(-1, 1),\n",
        "    X_valid=X_validation.values, y_valid=y_validation.reshape(-1, 1),\n",
        "    max_epochs=max_epochs,\n",
        "    patience=50,\n",
        "    batch_size=1024, virtual_batch_size=128,\n",
        "    num_workers=0,\n",
        "    drop_last=False\n",
        ")"
      ],
      "execution_count": 7,
      "outputs": [
        {
          "output_type": "stream",
          "text": [
            "Device used : cpu\n",
            "Will train until validation stopping metric hasn't improved in 50 rounds.\n",
            "---------------------------------------\n",
            "| EPOCH |  train  |   valid  | total time (s)\n",
            "| 1     | -506492.62500 |  -493204.81250 |   0.5       \n",
            "| 2     | -502807.59375 |  -488813.15625 |   1.1       \n",
            "| 3     | -498379.53125 |  -481712.87500 |   1.6       \n",
            "| 4     | -492654.96875 |  -473028.12500 |   2.1       \n",
            "| 5     | -485502.34375 |  -463502.37500 |   2.6       \n",
            "| 6     | -477259.78125 |  -451833.84375 |   3.1       \n",
            "| 7     | -467307.62500 |  -440601.43750 |   3.7       \n",
            "| 8     | -456076.93750 |  -425937.96875 |   4.2       \n",
            "| 9     | -443000.03125 |  -407101.28125 |   4.7       \n",
            "| 10    | -427517.65625 |  -387841.65625 |   5.3       \n",
            "| 11    | -411078.71875 |  -376294.40625 |   5.8       \n",
            "| 12    | -393740.87500 |  -367577.68750 |   6.4       \n",
            "| 13    | -375896.21875 |  -355034.68750 |   6.9       \n",
            "| 14    | -357705.12500 |  -338601.34375 |   7.4       \n",
            "| 15    | -338969.09375 |  -315611.25000 |   7.9       \n",
            "| 16    | -318870.06250 |  -291781.40625 |   8.4       \n",
            "| 17    | -299228.40625 |  -270251.40625 |   8.9       \n",
            "| 18    | -278379.50000 |  -248727.96875 |   9.5       \n",
            "| 19    | -257010.76562 |  -229057.73438 |   10.0      \n",
            "| 20    | -235653.45312 |  -201595.79688 |   10.5      \n",
            "| 21    | -213569.68750 |  -179925.96875 |   11.0      \n",
            "| 22    | -192474.15625 |  -148878.51562 |   11.6      \n",
            "| 23    | -170884.21875 |  -123666.49219 |   12.1      \n",
            "| 24    | -149002.46875 |  -104337.20312 |   12.6      \n",
            "| 25    | -128503.24219 |  -85319.68750 |   13.1      \n",
            "| 26    | -109696.85938 |  -67179.82031 |   13.6      \n",
            "| 27    | -91236.00781 |  -60089.05469 |   14.2      \n",
            "| 28    | -74952.21094 |  -52129.32031 |   14.7      \n",
            "| 29    | -60272.40234 |  -35151.40625 |   15.2      \n",
            "| 30    | -46721.47266 |  -24759.12891 |   15.7      \n",
            "| 31    | -35723.50000 |  -17393.72852 |   16.3      \n",
            "| 32    | -25673.55664 |  -11595.75098 |   16.8      \n",
            "| 33    | -19160.86914 |  -12101.67773 |   17.3      \n",
            "| 34    | -13318.96777 |  -8059.89014 |   17.9      \n",
            "| 35    | -10467.40820 |  -7382.61475 |   18.4      \n",
            "| 36    | -8899.34473 |  -7675.51025 |   18.9      \n",
            "| 37    | -7695.42725 |  -6642.29395 |   19.4      \n",
            "| 38    | -7239.81592 |  -6102.36279 |   19.9      \n",
            "| 39    | -9500.49609 |  -6221.48975 |   20.4      \n",
            "| 40    | -7510.21338 |  -7866.80029 |   20.9      \n",
            "| 41    | -7700.55908 |  -7426.48535 |   21.4      \n",
            "| 42    | -6816.02979 |  -5954.47510 |   21.9      \n",
            "| 43    | -7935.72559 |  -5813.79541 |   22.4      \n",
            "| 44    | -7238.16504 |  -11374.32617 |   22.9      \n",
            "| 45    | -6816.73682 |  -5340.23438 |   23.4      \n",
            "| 46    | -7873.53711 |  -5852.00146 |   23.9      \n",
            "| 47    | -7168.29541 |  -5092.60889 |   24.5      \n",
            "| 48    | -7007.75635 |  -5372.95996 |   25.0      \n",
            "| 49    | -7101.26318 |  -5074.39746 |   25.5      \n",
            "| 50    | -6510.32178 |  -5024.46484 |   26.0      \n",
            "| 51    | -6733.56592 |  -5358.19092 |   26.5      \n",
            "| 52    | -6745.10791 |  -5855.26221 |   27.0      \n",
            "| 53    | -7288.79346 |  -6376.13965 |   27.5      \n",
            "| 54    | -6876.11084 |  -5305.46973 |   28.0      \n",
            "| 55    | -6677.60303 |  -5075.77832 |   28.5      \n",
            "| 56    | -6955.02344 |  -6034.51709 |   29.0      \n",
            "| 57    | -7203.80127 |  -6424.35938 |   29.5      \n",
            "| 58    | -6294.59668 |  -8226.18555 |   30.0      \n",
            "| 59    | -7312.38916 |  -5787.21387 |   30.5      \n",
            "| 60    | -7123.36230 |  -5439.75781 |   31.1      \n",
            "| 61    | -6084.79150 |  -5177.08447 |   31.6      \n",
            "| 62    | -6417.30322 |  -5364.64746 |   32.1      \n",
            "| 63    | -6933.90039 |  -5310.68066 |   32.6      \n",
            "| 64    | -6567.14014 |  -5204.16748 |   33.1      \n",
            "| 65    | -7748.17725 |  -5052.03809 |   33.6      \n",
            "| 66    | -7049.86426 |  -5132.24414 |   34.1      \n",
            "| 67    | -7085.74805 |  -5180.56006 |   34.6      \n",
            "| 68    | -6019.94385 |  -5117.29248 |   35.1      \n",
            "| 69    | -6065.81348 |  -5199.81934 |   35.6      \n",
            "| 70    | -6414.93164 |  -5383.24512 |   36.1      \n",
            "| 71    | -6506.38086 |  -6389.89551 |   36.6      \n",
            "| 72    | -6632.21582 |  -5778.04346 |   37.1      \n",
            "| 73    | -6476.86426 |  -5256.04932 |   37.6      \n",
            "| 74    | -6888.35889 |  -6104.76416 |   38.2      \n",
            "| 75    | -6301.27246 |  -5923.24561 |   38.7      \n",
            "| 76    | -6537.52441 |  -6009.24561 |   39.2      \n",
            "| 77    | -6094.83154 |  -6231.90381 |   39.6      \n",
            "| 78    | -6097.15967 |  -5054.74023 |   40.1      \n",
            "| 79    | -6647.19238 |  -5136.84961 |   40.6      \n",
            "| 80    | -6173.33252 |  -5245.33936 |   41.1      \n",
            "| 81    | -6587.25049 |  -5127.52197 |   41.6      \n",
            "| 82    | -6407.06055 |  -5627.66943 |   42.1      \n",
            "| 83    | -6573.43262 |  -5217.01709 |   42.6      \n",
            "| 84    | -5888.08936 |  -5587.07764 |   43.1      \n",
            "| 85    | -6296.04053 |  -5549.33496 |   43.6      \n",
            "| 86    | -5986.92334 |  -5882.68701 |   44.1      \n",
            "| 87    | -6120.81689 |  -5032.24756 |   44.6      \n",
            "| 88    | -6510.23535 |  -5289.51172 |   45.2      \n",
            "| 89    | -5682.96973 |  -5372.00293 |   45.7      \n",
            "| 90    | -6367.54590 |  -5179.62646 |   46.2      \n",
            "| 91    | -6595.57178 |  -5302.94238 |   46.7      \n",
            "| 92    | -5989.11279 |  -5094.23486 |   47.2      \n",
            "| 93    | -6258.23975 |  -5265.51807 |   47.7      \n",
            "| 94    | -6455.41016 |  -5290.13281 |   48.2      \n",
            "| 95    | -6371.17725 |  -5231.96973 |   48.7      \n",
            "| 96    | -6373.24023 |  -5689.18945 |   49.2      \n",
            "| 97    | -6097.26660 |  -5098.35352 |   49.7      \n",
            "| 98    | -5843.67188 |  -5381.51025 |   50.2      \n",
            "| 99    | -6552.66113 |  -5814.57910 |   50.6      \n",
            "| 100   | -7112.85156 |  -5332.92285 |   51.1      \n",
            "Early stopping occured at epoch 100\n",
            "Training done in 51.131 seconds.\n",
            "---------------------------------------\n"
          ],
          "name": "stdout"
        }
      ]
    },
    {
      "cell_type": "code",
      "metadata": {
        "id": "rJELmWrpHlme",
        "colab_type": "code",
        "colab": {
          "base_uri": "https://localhost:8080/",
          "height": 329
        },
        "outputId": "a9800ef1-e605-4e10-e899-d751ed111a04"
      },
      "source": [
        "y_scores = clf.predict(X_validation.values)\n",
        "from sklearn.metrics import roc_auc_score,mean_squared_error,mean_absolute_error\n",
        "\n",
        "score = mean_squared_error(y_validation, y_scores)\n",
        "print(\"mse score on 40 percent data:\",score)\n",
        "score = mean_absolute_error(y_validation, y_scores)\n",
        "print(\"mae score on 40percent data:\",score)\n",
        "# to check the fit on 5 percent validation we plot yscores vs yvalidation and see how much it follows y=x line\n",
        "\n",
        "a=[]\n",
        "for i in range(0,2000):\n",
        "  a.append(i)\n",
        "plt.scatter(np.array(a),np.array(a), s=0.05, c='r', alpha=0.1)\n",
        "plt.scatter(y_scores,y_validation, s=0.05, c='b', alpha=0.8)\n",
        "plt.title(\"tabnet on 40 percent val\")\n",
        "plt.xlabel('prediction')\n",
        "plt.ylabel('actual values')\n",
        "#plt.savefig('/content/drive/My Drive/hack/data analysis/'+\"catboost_regression_test_final\"+'.jpg',)\n",
        "plt.show()\n"
      ],
      "execution_count": 8,
      "outputs": [
        {
          "output_type": "stream",
          "text": [
            "mse score on 40 percent data: 5024.4647365889605\n",
            "mae score on 40percent data: 24.097769701180678\n"
          ],
          "name": "stdout"
        },
        {
          "output_type": "display_data",
          "data": {
            "image/png": "[encoded data removed]",
            "text/plain": [
              "<Figure size 432x288 with 1 Axes>"
            ]
          },
          "metadata": {
            "tags": [],
            "needs_background": "light"
          }
        }
      ]
    },
    {
      "cell_type": "markdown",
      "metadata": {
        "id": "u1XnHfOuJxKM",
        "colab_type": "text"
      },
      "source": [
        "Now to train it on 95 percent data"
      ]
    },
    {
      "cell_type": "code",
      "metadata": {
        "id": "-7GgqSjUIdOf",
        "colab_type": "code",
        "colab": {
          "base_uri": "https://localhost:8080/",
          "height": 1000
        },
        "outputId": "221f01d4-1efb-43fa-a7bb-ec3e00f0bb5c"
      },
      "source": [
        "X_train, X_validation, y_train, y_validation = train_test_split(train, y, train_size=0.95, random_state=34)\n",
        "\n",
        "categorical_features_indices = np.where(train.dtypes != np.float)[0]\n",
        "print(categorical_features_indices)\n",
        "\n",
        "\n",
        "print(X_train.head())\n",
        "print(X_validation.head())\n",
        "\n",
        "print(test.head())\n",
        "print(test_indx.head())\n",
        "clf = TabNetRegressor(cat_dims=cat_dims, cat_emb_dim=cat_emb_dim, cat_idxs=cat_idxs)\n",
        "max_epochs = 1000\n",
        "clf.fit(\n",
        "    X_train=X_train.values, y_train=y_train.reshape(-1, 1),\n",
        "    X_valid=X_validation.values, y_valid=y_validation.reshape(-1, 1),\n",
        "    max_epochs=max_epochs,\n",
        "    patience=50,\n",
        "    batch_size=1024, virtual_batch_size=128,\n",
        "    num_workers=0,\n",
        "    drop_last=False)\n",
        "y_scores = clf.predict(X_validation.values)\n",
        "from sklearn.metrics import roc_auc_score,mean_squared_error,mean_absolute_error\n",
        "\n",
        "score = mean_squared_error(y_validation, y_scores)\n",
        "print(\"mse score on 5  percent data:\",score)\n",
        "score = mean_absolute_error(y_validation, y_scores)\n",
        "print(\"mae score on 5 percent data:\",score)\n",
        "# to check the fit on 5 percent validation we plot yscores vs yvalidation and see how much it follows y=x line\n",
        "\n",
        "a=[]\n",
        "for i in range(0,2000):\n",
        "  a.append(i)\n",
        "plt.scatter(np.array(a),np.array(a), s=0.05, c='r', alpha=0.1)\n",
        "plt.scatter(y_scores,y_validation, s=0.05, c='b', alpha=0.8)\n",
        "plt.title(\"tabnet on 5  percent val\")\n",
        "plt.xlabel('prediction')\n",
        "plt.ylabel('actual values')\n",
        "plt.savefig('/content/drive/My Drive/hack/data analysis/'+\"tabnet_regression_test_final\"+'.jpg',)\n",
        "plt.show()    "
      ],
      "execution_count": 10,
      "outputs": [
        {
          "output_type": "stream",
          "text": [
            "[0 1]\n",
            "      Index  Industry  ...  Put-Call Ratio  P/B Ratio\n",
            "7122      4         4  ...        1.068123   0.778382\n",
            "882       2         1  ...        0.224652   0.736271\n",
            "4611      2         0  ...       -1.462291  -1.331026\n",
            "2065      3         2  ...       -0.271508  -1.656433\n",
            "1214      2         3  ...        0.423116   0.759241\n",
            "\n",
            "[5 rows x 13 columns]\n",
            "      Index  Industry  ...  Put-Call Ratio  P/B Ratio\n",
            "3405      4         2  ...        0.472732  -0.764433\n",
            "2483      0         4  ...       -0.469972   0.487430\n",
            "4314      4         4  ...       -0.271508  -0.641927\n",
            "6793      4         3  ...        1.117739  -1.373137\n",
            "3719      0         1  ...        0.224652   1.555533\n",
            "\n",
            "[5 rows x 13 columns]\n",
            "   Index  Industry      VWAP  ...  Dollar Exchange Rate  Put-Call Ratio  P/B Ratio\n",
            "0      2         3 -1.559706  ...              1.208301   -7.180514e-01  -0.128931\n",
            "1      1         0  0.948142  ...             -0.481180   -4.203556e-01   0.426176\n",
            "2      4         2  0.293869  ...             -0.974438   -7.304384e-02  -0.002596\n",
            "3      2         1  0.578616  ...              1.208301    7.208117e-01  -1.430562\n",
            "4      3         3 -0.381409  ...             -0.974438   -3.855935e-15   0.452975\n",
            "\n",
            "[5 rows x 13 columns]\n",
            "0    AC3235\n",
            "1    AC3236\n",
            "2    AC3237\n",
            "3    AC3238\n",
            "4    AC3239\n",
            "Name: Stock Index, dtype: object\n",
            "Device used : cpu\n",
            "Will train until validation stopping metric hasn't improved in 50 rounds.\n",
            "---------------------------------------\n",
            "| EPOCH |  train  |   valid  | total time (s)\n",
            "| 1     | -499936.06250 |  -519259.37500 |   0.8       \n",
            "| 2     | -494326.40625 |  -509049.34375 |   1.4       \n",
            "| 3     | -486478.09375 |  -495522.78125 |   2.1       \n",
            "| 4     | -475836.09375 |  -476751.21875 |   2.8       \n",
            "| 5     | -461854.96875 |  -453306.28125 |   3.5       \n",
            "| 6     | -445515.50000 |  -436493.09375 |   4.1       \n",
            "| 7     | -426614.06250 |  -420798.78125 |   4.8       \n",
            "| 8     | -404922.50000 |  -381932.93750 |   5.5       \n",
            "| 9     | -379789.43750 |  -351514.18750 |   6.1       \n",
            "| 10    | -353513.78125 |  -311365.21875 |   6.8       \n",
            "| 11    | -327304.09375 |  -294903.09375 |   7.5       \n",
            "| 12    | -300479.06250 |  -268108.28125 |   8.2       \n",
            "| 13    | -272977.18750 |  -245745.42188 |   8.9       \n",
            "| 14    | -244202.06250 |  -230676.54688 |   9.6       \n",
            "| 15    | -214659.35938 |  -214048.00000 |   10.3      \n",
            "| 16    | -185401.53125 |  -200283.54688 |   10.9      \n",
            "| 17    | -157296.21875 |  -166739.53125 |   11.6      \n",
            "| 18    | -129581.30469 |  -130228.25781 |   12.3      \n",
            "| 19    | -103183.34375 |  -86476.03125 |   13.0      \n",
            "| 20    | -78940.78906 |  -69095.15625 |   13.7      \n",
            "| 21    | -58254.88281 |  -36945.56641 |   14.3      \n",
            "| 22    | -41633.21875 |  -39720.99219 |   15.0      \n",
            "| 23    | -28807.92383 |  -27603.26953 |   15.8      \n",
            "| 24    | -20352.66992 |  -12845.00977 |   16.4      \n",
            "| 25    | -14139.23438 |  -6995.98389 |   17.1      \n",
            "| 26    | -11101.51074 |  -6223.78125 |   17.8      \n",
            "| 27    | -10198.17383 |  -5639.87549 |   18.5      \n",
            "| 28    | -8459.17480 |  -4254.53662 |   19.2      \n",
            "| 29    | -8585.85156 |  -5091.20752 |   19.9      \n",
            "| 30    | -8326.35938 |  -4802.75586 |   20.5      \n",
            "| 31    | -8290.28809 |  -5284.68262 |   21.2      \n",
            "| 32    | -8454.37402 |  -4933.85693 |   21.9      \n",
            "| 33    | -8009.16797 |  -4050.27222 |   22.5      \n",
            "| 34    | -8166.63818 |  -5351.22314 |   23.2      \n",
            "| 35    | -7782.72900 |  -4260.35156 |   23.8      \n",
            "| 36    | -7660.54346 |  -3754.77710 |   24.5      \n",
            "| 37    | -7658.37451 |  -4686.35547 |   25.2      \n",
            "| 38    | -8099.28076 |  -3810.19434 |   25.8      \n",
            "| 39    | -7579.22705 |  -3866.73145 |   26.6      \n",
            "| 40    | -7708.89502 |  -4014.56323 |   27.2      \n",
            "| 41    | -7572.09082 |  -3733.71924 |   27.9      \n",
            "| 42    | -7366.44824 |  -3967.29126 |   28.6      \n",
            "| 43    | -7320.65479 |  -3890.60938 |   29.2      \n",
            "| 44    | -7033.17041 |  -3810.94531 |   29.9      \n",
            "| 45    | -7261.52930 |  -3918.37915 |   30.5      \n",
            "| 46    | -7158.58057 |  -3907.30200 |   31.2      \n",
            "| 47    | -7179.57959 |  -4203.74072 |   31.9      \n",
            "| 48    | -6666.96484 |  -3968.17773 |   32.5      \n",
            "| 49    | -7676.04736 |  -4162.58838 |   33.2      \n",
            "| 50    | -7000.00342 |  -4796.93994 |   33.9      \n",
            "| 51    | -8356.43652 |  -3815.11816 |   34.5      \n",
            "| 52    | -7293.79541 |  -3660.98315 |   35.2      \n",
            "| 53    | -7087.50244 |  -4121.26758 |   35.8      \n",
            "| 54    | -7124.99023 |  -3729.25610 |   36.5      \n",
            "| 55    | -7496.03857 |  -3796.29150 |   37.2      \n",
            "| 56    | -7084.83887 |  -4080.67065 |   38.0      \n",
            "| 57    | -6891.51270 |  -3954.04736 |   38.7      \n",
            "| 58    | -7725.45068 |  -5076.52295 |   39.4      \n",
            "| 59    | -7209.32617 |  -3795.16016 |   40.1      \n",
            "| 60    | -6915.27148 |  -4118.46338 |   40.8      \n",
            "| 61    | -7467.95361 |  -4135.85254 |   41.5      \n",
            "| 62    | -7183.16748 |  -4171.06641 |   42.2      \n",
            "| 63    | -7115.76318 |  -3773.36548 |   42.9      \n",
            "| 64    | -6827.35645 |  -3963.92505 |   43.6      \n",
            "| 65    | -7044.79297 |  -4591.46631 |   44.2      \n",
            "| 66    | -7114.78809 |  -3780.28369 |   44.9      \n",
            "| 67    | -7133.69434 |  -3714.24756 |   45.5      \n",
            "| 68    | -7136.12646 |  -3604.87524 |   46.2      \n",
            "| 69    | -7067.29297 |  -3835.50781 |   46.9      \n",
            "| 70    | -7008.63770 |  -3669.98120 |   47.6      \n",
            "| 71    | -7645.55469 |  -4081.40674 |   48.2      \n",
            "| 72    | -7192.69824 |  -3689.27026 |   48.9      \n",
            "| 73    | -6323.07324 |  -3751.61694 |   49.5      \n",
            "| 74    | -7055.98730 |  -4061.03784 |   50.3      \n",
            "| 75    | -6798.20459 |  -3988.21924 |   50.9      \n",
            "| 76    | -6806.71191 |  -4200.28027 |   51.6      \n",
            "| 77    | -7107.41650 |  -3908.30273 |   52.3      \n",
            "| 78    | -6882.45068 |  -3752.46948 |   52.9      \n",
            "| 79    | -6676.07471 |  -3739.16113 |   53.6      \n",
            "| 80    | -6893.18457 |  -3783.06958 |   54.2      \n",
            "| 81    | -6796.70361 |  -3626.15137 |   54.9      \n",
            "| 82    | -7239.39209 |  -3625.47510 |   55.6      \n",
            "| 83    | -6838.80518 |  -3995.94360 |   56.2      \n",
            "| 84    | -6448.56592 |  -3955.25342 |   56.9      \n",
            "| 85    | -6371.54639 |  -3646.07056 |   57.5      \n",
            "| 86    | -6654.93457 |  -4201.62988 |   58.2      \n",
            "| 87    | -7159.40332 |  -3805.77710 |   58.9      \n",
            "| 88    | -7627.13721 |  -3958.30737 |   59.5      \n",
            "| 89    | -6409.66455 |  -3718.68555 |   60.2      \n",
            "| 90    | -7039.68066 |  -3727.04639 |   60.8      \n",
            "| 91    | -6843.29443 |  -4907.88379 |   61.5      \n",
            "| 92    | -7025.34375 |  -4067.37402 |   62.2      \n",
            "| 93    | -7099.11523 |  -3996.83447 |   62.9      \n",
            "| 94    | -7049.00635 |  -3735.53784 |   63.6      \n",
            "| 95    | -6633.68018 |  -4020.13843 |   64.3      \n",
            "| 96    | -6338.37256 |  -4320.53516 |   64.9      \n",
            "| 97    | -7336.96289 |  -4183.27441 |   65.6      \n",
            "| 98    | -6518.81592 |  -4148.94971 |   66.2      \n",
            "| 99    | -7064.70508 |  -3687.73926 |   66.9      \n",
            "| 100   | -6716.37305 |  -4282.86182 |   67.6      \n",
            "| 101   | -6964.03076 |  -4117.78320 |   68.2      \n",
            "| 102   | -6872.76074 |  -3759.97192 |   68.9      \n",
            "| 103   | -6572.35889 |  -4108.20996 |   69.6      \n",
            "| 104   | -6909.42480 |  -3807.78784 |   70.2      \n",
            "| 105   | -6823.45801 |  -3904.86816 |   70.9      \n",
            "| 106   | -6551.07861 |  -4168.31641 |   71.6      \n",
            "| 107   | -6716.58105 |  -3775.49048 |   72.2      \n",
            "| 108   | -7099.62793 |  -3679.49121 |   72.9      \n",
            "| 109   | -7084.62549 |  -4070.09082 |   73.6      \n",
            "| 110   | -6732.61133 |  -4028.11963 |   74.2      \n",
            "| 111   | -6243.31836 |  -3865.55957 |   75.0      \n",
            "| 112   | -6615.01562 |  -3821.29956 |   75.6      \n",
            "| 113   | -6373.74707 |  -4082.10278 |   76.3      \n",
            "| 114   | -7162.30762 |  -4186.39600 |   76.9      \n",
            "| 115   | -6455.95215 |  -5443.62939 |   77.6      \n",
            "| 116   | -6269.95508 |  -4062.08374 |   78.3      \n",
            "| 117   | -6685.10840 |  -4517.81738 |   78.9      \n",
            "| 118   | -6676.22705 |  -4229.57031 |   79.6      \n",
            "Early stopping occured at epoch 118\n",
            "Training done in 79.586 seconds.\n",
            "---------------------------------------\n",
            "mse score on 5  percent data: 3604.8751028731126\n",
            "mae score on 5 percent data: 21.8247088229788\n"
          ],
          "name": "stdout"
        },
        {
          "output_type": "display_data",
          "data": {
            "image/png": "[encoded data removed]",
            "text/plain": [
              "<Figure size 432x288 with 1 Axes>"
            ]
          },
          "metadata": {
            "tags": [],
            "needs_background": "light"
          }
        }
      ]
    },
    {
      "cell_type": "code",
      "metadata": {
        "id": "rpaKjPV5Un2e",
        "colab_type": "code",
        "colab": {
          "base_uri": "https://localhost:8080/",
          "height": 255
        },
        "outputId": "31077de3-a8f0-4d14-f69f-d744765f8f5d"
      },
      "source": [
        "# testing data and sumbmition file <create new folder> \n",
        "print(test.head())\n",
        "print(test_indx.head())"
      ],
      "execution_count": 11,
      "outputs": [
        {
          "output_type": "stream",
          "text": [
            "   Index  Industry      VWAP  ...  Dollar Exchange Rate  Put-Call Ratio  P/B Ratio\n",
            "0      2         3 -1.559706  ...              1.208301   -7.180514e-01  -0.128931\n",
            "1      1         0  0.948142  ...             -0.481180   -4.203556e-01   0.426176\n",
            "2      4         2  0.293869  ...             -0.974438   -7.304384e-02  -0.002596\n",
            "3      2         1  0.578616  ...              1.208301    7.208117e-01  -1.430562\n",
            "4      3         3 -0.381409  ...             -0.974438   -3.855935e-15   0.452975\n",
            "\n",
            "[5 rows x 13 columns]\n",
            "0    AC3235\n",
            "1    AC3236\n",
            "2    AC3237\n",
            "3    AC3238\n",
            "4    AC3239\n",
            "Name: Stock Index, dtype: object\n"
          ],
          "name": "stdout"
        }
      ]
    },
    {
      "cell_type": "code",
      "metadata": {
        "id": "R_ABdGU5UqV4",
        "colab_type": "code",
        "colab": {}
      },
      "source": [
        "\n",
        "y_scores = clf.predict(test.values)"
      ],
      "execution_count": 12,
      "outputs": []
    },
    {
      "cell_type": "code",
      "metadata": {
        "id": "AIDqzJ_0YXEV",
        "colab_type": "code",
        "colab": {}
      },
      "source": [
        "sub = pd.DataFrame()\n",
        "sub['Stock Index']=test_indx\n",
        "sub['Stock Price'] = y_scores"
      ],
      "execution_count": 13,
      "outputs": []
    },
    {
      "cell_type": "code",
      "metadata": {
        "id": "vc4LgL3fZFwE",
        "colab_type": "code",
        "colab": {
          "base_uri": "https://localhost:8080/",
          "height": 119
        },
        "outputId": "248de034-76b1-4dc6-8a60-bc6052a918d3"
      },
      "source": [
        "print(sub.head())\n",
        "sub.to_csv('/content/drive/My Drive/hack/task1_outputs/tabnet.csv',index=False)"
      ],
      "execution_count": 14,
      "outputs": [
        {
          "output_type": "stream",
          "text": [
            "  Stock Index  Stock Price\n",
            "0      AC3235   778.203125\n",
            "1      AC3236   252.185516\n",
            "2      AC3237  1536.025513\n",
            "3      AC3238   820.137085\n",
            "4      AC3239   263.067993\n"
          ],
          "name": "stdout"
        }
      ]
    },
    {
      "cell_type": "code",
      "metadata": {
        "id": "lSm7aaZbPCuC",
        "colab_type": "code",
        "colab": {}
      },
      "source": [
        ""
      ],
      "execution_count": null,
      "outputs": []
    }
  ]
}